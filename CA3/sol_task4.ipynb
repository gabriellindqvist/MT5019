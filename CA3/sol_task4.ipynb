{
 "cells": [
  {
   "cell_type": "markdown",
   "id": "713015a0-867a-4459-99d4-68cc97499a3e",
   "metadata": {},
   "source": [
    "## Task 4"
   ]
  },
  {
   "cell_type": "code",
   "execution_count": 1,
   "id": "7a995a9b-f2af-4f7c-9fda-9078ca120fd7",
   "metadata": {},
   "outputs": [
    {
     "data": {
      "text/html": [
       "<table class=\"dataframe\">\n",
       "<caption>A data.frame: 6 × 5</caption>\n",
       "<thead>\n",
       "\t<tr><th></th><th scope=col>x</th><th scope=col>y</th><th scope=col>z</th><th scope=col>v</th><th scope=col>n</th></tr>\n",
       "\t<tr><th></th><th scope=col>&lt;int&gt;</th><th scope=col>&lt;int&gt;</th><th scope=col>&lt;int&gt;</th><th scope=col>&lt;int&gt;</th><th scope=col>&lt;int&gt;</th></tr>\n",
       "</thead>\n",
       "<tbody>\n",
       "\t<tr><th scope=row>1</th><td>0</td><td>1</td><td>0</td><td>1</td><td> 40</td></tr>\n",
       "\t<tr><th scope=row>2</th><td>0</td><td>0</td><td>0</td><td>1</td><td>315</td></tr>\n",
       "\t<tr><th scope=row>3</th><td>0</td><td>1</td><td>0</td><td>0</td><td>  9</td></tr>\n",
       "\t<tr><th scope=row>4</th><td>0</td><td>0</td><td>0</td><td>0</td><td> 50</td></tr>\n",
       "\t<tr><th scope=row>5</th><td>0</td><td>1</td><td>1</td><td>0</td><td>  6</td></tr>\n",
       "\t<tr><th scope=row>6</th><td>0</td><td>0</td><td>1</td><td>0</td><td> 24</td></tr>\n",
       "</tbody>\n",
       "</table>\n"
      ],
      "text/latex": [
       "A data.frame: 6 × 5\n",
       "\\begin{tabular}{r|lllll}\n",
       "  & x & y & z & v & n\\\\\n",
       "  & <int> & <int> & <int> & <int> & <int>\\\\\n",
       "\\hline\n",
       "\t1 & 0 & 1 & 0 & 1 &  40\\\\\n",
       "\t2 & 0 & 0 & 0 & 1 & 315\\\\\n",
       "\t3 & 0 & 1 & 0 & 0 &   9\\\\\n",
       "\t4 & 0 & 0 & 0 & 0 &  50\\\\\n",
       "\t5 & 0 & 1 & 1 & 0 &   6\\\\\n",
       "\t6 & 0 & 0 & 1 & 0 &  24\\\\\n",
       "\\end{tabular}\n"
      ],
      "text/markdown": [
       "\n",
       "A data.frame: 6 × 5\n",
       "\n",
       "| <!--/--> | x &lt;int&gt; | y &lt;int&gt; | z &lt;int&gt; | v &lt;int&gt; | n &lt;int&gt; |\n",
       "|---|---|---|---|---|---|\n",
       "| 1 | 0 | 1 | 0 | 1 |  40 |\n",
       "| 2 | 0 | 0 | 0 | 1 | 315 |\n",
       "| 3 | 0 | 1 | 0 | 0 |   9 |\n",
       "| 4 | 0 | 0 | 0 | 0 |  50 |\n",
       "| 5 | 0 | 1 | 1 | 0 |   6 |\n",
       "| 6 | 0 | 0 | 1 | 0 |  24 |\n",
       "\n"
      ],
      "text/plain": [
       "  x y z v n  \n",
       "1 0 1 0 1  40\n",
       "2 0 0 0 1 315\n",
       "3 0 1 0 0   9\n",
       "4 0 0 0 0  50\n",
       "5 0 1 1 0   6\n",
       "6 0 0 1 0  24"
      ]
     },
     "metadata": {},
     "output_type": "display_data"
    }
   ],
   "source": [
    "# Read the data and get a quick overview\n",
    "data3 <- read.csv(\"data_ca3.csv\")\n",
    "head(data3)"
   ]
  },
  {
   "cell_type": "markdown",
   "id": "8d6cbc3d-4905-4e3e-8ad2-5d70db19c9e4",
   "metadata": {},
   "source": [
    "Next, we need to prepare the data before fitting a logistic model. That is, we convert each variable to dummy variables."
   ]
  },
  {
   "cell_type": "code",
   "execution_count": 2,
   "id": "5c1236a6-c354-4a86-b476-8b96704df173",
   "metadata": {},
   "outputs": [],
   "source": [
    "# Convert the variables into dummy variables\n",
    "data3$x <- as.factor(data3$x)\n",
    "data3$y <- as.factor(data3$y)\n",
    "data3$z <- as.factor(data3$z)\n",
    "data3$v <- as.factor(data3$v)"
   ]
  },
  {
   "cell_type": "markdown",
   "id": "50945d3c-15f0-45f8-a9cd-72572db75795",
   "metadata": {},
   "source": [
    "The next step is to select a good logistic regression model. To do this, we start by defining the full model and then implement a stepwise approach to select the best model relative to AIC."
   ]
  },
  {
   "cell_type": "code",
   "execution_count": 3,
   "id": "1f83111c-6d17-491d-8fa9-4fbd0152175a",
   "metadata": {},
   "outputs": [
    {
     "name": "stdout",
     "output_type": "stream",
     "text": [
      "Start:  AIC=1099.27\n",
      "v ~ x * y * z\n",
      "\n",
      "        Df Deviance    AIC\n",
      "- x:y:z  1   1083.6 1097.6\n",
      "<none>       1083.3 1099.3\n",
      "\n",
      "Step:  AIC=1097.63\n",
      "v ~ x + y + z + x:y + x:z + y:z\n",
      "\n",
      "        Df Deviance    AIC\n",
      "- y:z    1   1083.9 1095.9\n",
      "- x:y    1   1084.0 1096.0\n",
      "- x:z    1   1084.1 1096.1\n",
      "<none>       1083.6 1097.6\n",
      "+ x:y:z  1   1083.3 1099.3\n",
      "\n",
      "Step:  AIC=1095.86\n",
      "v ~ x + y + z + x:y + x:z\n",
      "\n",
      "       Df Deviance    AIC\n",
      "- x:y   1   1084.2 1094.2\n",
      "- x:z   1   1084.4 1094.4\n",
      "<none>      1083.9 1095.9\n",
      "+ y:z   1   1083.6 1097.6\n",
      "\n",
      "Step:  AIC=1094.22\n",
      "v ~ x + y + z + x:z\n",
      "\n",
      "       Df Deviance    AIC\n",
      "- x:z   1   1084.8 1092.8\n",
      "<none>      1084.2 1094.2\n",
      "- y     1   1086.7 1094.7\n",
      "+ x:y   1   1083.9 1095.9\n",
      "+ y:z   1   1084.0 1096.0\n",
      "\n",
      "Step:  AIC=1092.76\n",
      "v ~ x + y + z\n",
      "\n",
      "       Df Deviance    AIC\n",
      "<none>      1084.8 1092.8\n",
      "- y     1   1087.2 1093.2\n",
      "+ x:z   1   1084.2 1094.2\n",
      "+ x:y   1   1084.4 1094.4\n",
      "+ y:z   1   1084.5 1094.5\n",
      "- x     1   1091.3 1097.3\n",
      "- z     1   1422.4 1428.4\n"
     ]
    }
   ],
   "source": [
    "# Define the full model including all interactions\n",
    "model_full <- glm(\n",
    "    v ~ x * y * z, family = binomial(link = \"logit\"), data = data3, weights = n\n",
    ")\n",
    "\n",
    "# Model selection using stepwise in both directions\n",
    "model_step <- step(model_full, direction = \"both\")"
   ]
  },
  {
   "cell_type": "markdown",
   "id": "b95b1425-a539-4040-a529-8171c9dd6867",
   "metadata": {},
   "source": [
    "The selected model only lowers the AIC by 7.1, which is marginally better than the full model. In contrast, simpler models are generally preferred. However, the main focus is to analyze how smoking habits influence the child survival. Thus, we include the two-way interaction terms `x:y` and `y:z`.\n",
    "\n",
    "$$\n",
    "\\text{logit}\\bigl(P(\\text{Child survives}) \\bigr) = \\beta_0 + \\beta_1X + \\beta_2Y +\\beta_3Z + \\beta_4XY + \\beta_5YZ.\n",
    "$$\n",
    "\n",
    "For easier interpretation, we generate a table with relevant results."
   ]
  },
  {
   "cell_type": "code",
   "execution_count": 5,
   "id": "9e95a25a-69fe-4699-a24b-a064711a87fb",
   "metadata": {},
   "outputs": [
    {
     "data": {
      "text/html": [
       "<table class=\"dataframe\">\n",
       "<caption>A data.frame: 6 × 6</caption>\n",
       "<thead>\n",
       "\t<tr><th></th><th scope=col>Coefficient</th><th scope=col>Std_Error</th><th scope=col>Odds_Ratio</th><th scope=col>CI_Lower</th><th scope=col>CI_Upper</th><th scope=col>P_value</th></tr>\n",
       "\t<tr><th></th><th scope=col>&lt;dbl&gt;</th><th scope=col>&lt;dbl&gt;</th><th scope=col>&lt;dbl&gt;</th><th scope=col>&lt;dbl&gt;</th><th scope=col>&lt;dbl&gt;</th><th scope=col>&lt;dbl&gt;</th></tr>\n",
       "</thead>\n",
       "<tbody>\n",
       "\t<tr><th scope=row>(Intercept)</th><td> 1.8158</td><td>0.1401</td><td> 6.1460</td><td> 4.6702</td><td> 8.0881</td><td>0.0000</td></tr>\n",
       "\t<tr><th scope=row>x1</th><td>-0.5050</td><td>0.1912</td><td> 0.6035</td><td> 0.4149</td><td> 0.8779</td><td>0.0083</td></tr>\n",
       "\t<tr><th scope=row>y1</th><td>-0.4122</td><td>0.3686</td><td> 0.6622</td><td> 0.3215</td><td> 1.3638</td><td>0.2634</td></tr>\n",
       "\t<tr><th scope=row>z1</th><td> 3.3494</td><td>0.1995</td><td>28.4856</td><td>19.2667</td><td>42.1157</td><td>0.0000</td></tr>\n",
       "\t<tr><th scope=row>x1:y1</th><td> 0.3537</td><td>0.5911</td><td> 1.4243</td><td> 0.4472</td><td> 4.5370</td><td>0.5496</td></tr>\n",
       "\t<tr><th scope=row>y1:z1</th><td>-0.2967</td><td>0.5301</td><td> 0.7433</td><td> 0.2630</td><td> 2.1008</td><td>0.5757</td></tr>\n",
       "</tbody>\n",
       "</table>\n"
      ],
      "text/latex": [
       "A data.frame: 6 × 6\n",
       "\\begin{tabular}{r|llllll}\n",
       "  & Coefficient & Std\\_Error & Odds\\_Ratio & CI\\_Lower & CI\\_Upper & P\\_value\\\\\n",
       "  & <dbl> & <dbl> & <dbl> & <dbl> & <dbl> & <dbl>\\\\\n",
       "\\hline\n",
       "\t(Intercept) &  1.8158 & 0.1401 &  6.1460 &  4.6702 &  8.0881 & 0.0000\\\\\n",
       "\tx1 & -0.5050 & 0.1912 &  0.6035 &  0.4149 &  0.8779 & 0.0083\\\\\n",
       "\ty1 & -0.4122 & 0.3686 &  0.6622 &  0.3215 &  1.3638 & 0.2634\\\\\n",
       "\tz1 &  3.3494 & 0.1995 & 28.4856 & 19.2667 & 42.1157 & 0.0000\\\\\n",
       "\tx1:y1 &  0.3537 & 0.5911 &  1.4243 &  0.4472 &  4.5370 & 0.5496\\\\\n",
       "\ty1:z1 & -0.2967 & 0.5301 &  0.7433 &  0.2630 &  2.1008 & 0.5757\\\\\n",
       "\\end{tabular}\n"
      ],
      "text/markdown": [
       "\n",
       "A data.frame: 6 × 6\n",
       "\n",
       "| <!--/--> | Coefficient &lt;dbl&gt; | Std_Error &lt;dbl&gt; | Odds_Ratio &lt;dbl&gt; | CI_Lower &lt;dbl&gt; | CI_Upper &lt;dbl&gt; | P_value &lt;dbl&gt; |\n",
       "|---|---|---|---|---|---|---|\n",
       "| (Intercept) |  1.8158 | 0.1401 |  6.1460 |  4.6702 |  8.0881 | 0.0000 |\n",
       "| x1 | -0.5050 | 0.1912 |  0.6035 |  0.4149 |  0.8779 | 0.0083 |\n",
       "| y1 | -0.4122 | 0.3686 |  0.6622 |  0.3215 |  1.3638 | 0.2634 |\n",
       "| z1 |  3.3494 | 0.1995 | 28.4856 | 19.2667 | 42.1157 | 0.0000 |\n",
       "| x1:y1 |  0.3537 | 0.5911 |  1.4243 |  0.4472 |  4.5370 | 0.5496 |\n",
       "| y1:z1 | -0.2967 | 0.5301 |  0.7433 |  0.2630 |  2.1008 | 0.5757 |\n",
       "\n"
      ],
      "text/plain": [
       "            Coefficient Std_Error Odds_Ratio CI_Lower CI_Upper P_value\n",
       "(Intercept)  1.8158     0.1401     6.1460     4.6702   8.0881  0.0000 \n",
       "x1          -0.5050     0.1912     0.6035     0.4149   0.8779  0.0083 \n",
       "y1          -0.4122     0.3686     0.6622     0.3215   1.3638  0.2634 \n",
       "z1           3.3494     0.1995    28.4856    19.2667  42.1157  0.0000 \n",
       "x1:y1        0.3537     0.5911     1.4243     0.4472   4.5370  0.5496 \n",
       "y1:z1       -0.2967     0.5301     0.7433     0.2630   2.1008  0.5757 "
      ]
     },
     "metadata": {},
     "output_type": "display_data"
    }
   ],
   "source": [
    "# Define the model\n",
    "model_simplified <- glm(\n",
    "    v ~ x + y + z + x:y + y:z, family = binomial(link = \"logit\"), data = data3, weights = n\n",
    "                       )\n",
    "# Extract coefficients, standard errors, and p-values\n",
    "\n",
    "summary_model <- summary(model_simplified)\n",
    "\n",
    "coef_table <- summary_model$coefficients\n",
    "coef_df <- data.frame(\n",
    "  Coefficient = round(coef_table[, \"Estimate\"], digits = 4),\n",
    "  Std_Error = round(coef_table[, \"Std. Error\"], digits = 4),\n",
    "  P_value = round(coef_table[, \"Pr(>|z|)\"], digits = 4)\n",
    ")\n",
    "\n",
    "# Calculate odds ratios and 95% confidence intervals\n",
    "coef_df$Odds_Ratio <- round(exp(coef_df$Coefficient), digits = 4)\n",
    "coef_df$CI_Lower <- round(exp(coef_df$Coefficient - 1.96 * coef_df$Std_Error), digits = 4)\n",
    "coef_df$CI_Upper <- round(exp(coef_df$Coefficient + 1.96 * coef_df$Std_Error), digits = 4)\n",
    "\n",
    "# Rearrange columns for better readability\n",
    "coef_df <- coef_df[, c(\"Coefficient\", \"Std_Error\", \"Odds_Ratio\", \"CI_Lower\", \"CI_Upper\", \"P_value\")]\n",
    "\n",
    "coef_df "
   ]
  },
  {
   "cell_type": "markdown",
   "id": "fb415321-e90c-4d3e-8bf1-fb8fded35036",
   "metadata": {},
   "source": [
    "From the table above we can deduce the following\n",
    "\n",
    "1. **Main Effects:**\n",
    "\n",
    "   - **Mother's Age $(x_1)$:** Significant on the level $1\\%$, with an estimated odds ratio of $0.6035$, indicating that children born to mothers aged 30 or older have about $40\\%$ lower odds of survival compared to mothers under 30, controlling for other factors.\n",
    "\n",
    "   - **Smoking Habits $(y_1)$:** Not significant, with an estimated odds ratio of $0.6622$. This indicates that smoking habits alone do not significantly affect child survival.\n",
    "\n",
    "   - **Gestational Age $(z_1)$:** Highly significant ($p < 0.0001$), with a large odds ratio of $28.4856$, showing that longer gestational age is strongly associated with higher odds of survival.\n",
    "\n",
    "2. **Interaction Effects:**\n",
    "\n",
    "   - **Mother's Age and Smoking Habits $(x_1:y_1)$:** Not significant, suggesting that the effect of smoking habits on child survival does not depend on gestational age.\n",
    "\n",
    "   - **Smoking Habits and Gestational Age $(y_1:z_1)$:** Not significant, suggesting that the effect of smoking habits on child survival does not depend on gestational age.\n",
    "  \n",
    "### Smoking Habits and Child Survival\n",
    "\n",
    "The coefficient for $y_1$ $(\\beta_2 = -0.4122)$ suggests that smoking 5+ cigarettes per day is associated with reduced odds of child survival (odds ratio = 0.6622), but this reduction is not statistically significant. Furthermore, the $95\\%$ C.I for the odds ratio $[0.3215, 1.3638]$ includes 1, indicating that the effect could range from a positive effect to a detrimental one. This reinforces the lack of strong evidence for a consistent relationship between smoking and child survival in this dataset. \n",
    "\n",
    "The results are rather surprising, since smoking is usually associatied with health risks.\n",
    "\n",
    "#### Possible Limitations\n",
    "\n",
    "- Sparse counts? There are clear imbalance in the number of counts for smoking categories. Even though we weight with the number of counts, the imbalance could still limit the power to detect an effect. A possible solution to the imbalance could be to aggregate the data for smoking habits, such as combining the smoking categories into a single binary variable (e.g. Y = 1 smokes, Y = 0, does not smoke). This could help with a more even spread in counts, depending on the population the data was sampled from.\n",
    "\n",
    "- Multicolinearity? There might be some multicolinearity between the predictors, which could explain the reason as to why smoking habits are non-significant."
   ]
  }
 ],
 "metadata": {
  "kernelspec": {
   "display_name": "R",
   "language": "R",
   "name": "ir"
  },
  "language_info": {
   "codemirror_mode": "r",
   "file_extension": ".r",
   "mimetype": "text/x-r-source",
   "name": "R",
   "pygments_lexer": "r",
   "version": "4.1.3"
  }
 },
 "nbformat": 4,
 "nbformat_minor": 5
}
